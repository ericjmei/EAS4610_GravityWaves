{
 "cells": [
  {
   "cell_type": "markdown",
   "metadata": {},
   "source": [
    "# Shallow Water Gravity Waves\n",
    "EAS 4610<br>\n",
    "Miriam Blaine<br>\n",
    "Eric Mei\n",
    "## Derivation of Marching Equation\n",
    "The following are taken from Holton (2004) equations $(7.17)$ and $(7.19)$:\n",
    "\n",
    "$$\\frac{\\partial u}{\\partial t} + u\\frac{\\partial u}{\\partial x} + w\\frac{\\partial u}{\\partial z} = -\\frac{g \\delta \\rho}{\\rho_1} \\frac{\\partial h}{\\partial x} \\tag{7.17}$$\n",
    "$$\\frac{\\partial h}{\\partial t} + \\frac{\\partial}{\\partial x}(hu) = 0 \\tag{7.19}$$\n",
    "\n",
    "Where $u$ is the velocity in the x-direction and $h$ is the depth of water. <br>\n",
    "To simplify the analysis, $u$ and $h$ are expressed in the perturbation forms:\n",
    "$$u = \\bar{u} + u^{\\prime},\\, h = H + h^{\\prime}$$\n",
    "In this decomposition, $\\bar{u} = 0, H \\gg |h^{\\prime}|$ and $u'$ is very small. Additionally, it is assumed that $H$ varies only in the space dimension. $u^{\\prime}$ and $h^{\\prime}$ vary with space and time. <br>\n",
    "\n",
    "For simplicity, partial differentials may be referenced with the following notation henceforth:\n",
    "\n",
    "$$\\frac{\\partial u^{\\prime}}{\\partial t} = u_t', \\frac{\\partial^2 u^{\\prime}}{\\partial t^2} = u_{tt}^{\\prime}, etc.$$\n",
    "\n",
    "Substituting the perturbation forms into $(7.17)$,\n",
    "\n",
    "$$\\frac{\\partial u^{\\prime}}{\\partial t} + g(\\frac{\\partial H}{\\partial x} + \\frac{\\partial h^{\\prime}}{\\partial x}) = u_t +  g(H_x + h_x^{\\prime}) = 0 \\tag{1}$$\n",
    "\n",
    "Likewise, substituting the perturbation forms into $(7.19)$,\n",
    "\n",
    "$$\\frac{\\partial}{\\partial x}(hu) = H\\frac{\\partial \\bar{u}}{\\partial x} + \\bar{u} \\frac{\\partial H}{\\partial x} + H \\frac{\\partial u^{\\prime}}{\\partial x} + u^{\\prime}\\frac{\\partial H}{\\partial x} + \\bar{u} \\frac{\\partial h^{\\prime}}{\\partial x} + h^{\\prime} \\frac{\\partial \\bar{u}}{\\partial x} = H \\frac{\\partial u^{\\prime}}{\\partial x} $$\n",
    "$$\\frac{\\partial h^{\\prime}}{\\partial t} + \\bar{u} \\frac{\\partial H}{\\partial x} + H \\frac{\\partial u^{\\prime}}{\\partial x} + \\bar{u} \\frac{\\partial h^{\\prime}}{\\partial x} = h_t^{\\prime} + Hu_x^{\\prime} = 0 \\tag{2}$$\n",
    "\n",
    "To eliminate the $u'$ terms, $(1)$ is differentiated with $x$:\n",
    "\n",
    "$$u_{xt}^{\\prime} + g(H_{xx} + h_{xx}^{\\prime}) = 0 \\tag{3}$$\n",
    "\n",
    "\n",
    "$(2)$ is differentiated with $t$ to isolate $u_{xt}'$:\n",
    "\n",
    "$$h_{tt}^{\\prime} + Hu_{xt}^{\\prime} = 0$$\n",
    "$$u_{xt}^{\\prime} = -\\frac{1}{H}(h_{tt}^{\\prime}) \\tag{4}$$\n",
    "\n",
    "$(4)$ is substituted into $(3)$:\n",
    "\n",
    "$$h_{tt}' - gH(H_{xx} + h_{xx}') = 0 \\tag{5}$$\n",
    "\n",
    "which can be re-expressed as\n",
    "\n",
    "$$\\frac{\\partial^2}{\\partial t^2}h^{\\prime} - gH\\frac{\\partial^2}{\\partial x^2}(H + h^{\\prime}) = 0 \\tag{6}$$\n",
    "\n",
    "In the discretized forms, $h'$ notation is substituted with $h$ to avoid subscipt and superscript confusion. $(6)$ is discretized below, with $k$ representing time gridpoints and $i$ representing space gridpoints:\n",
    "\n",
    "$$\\frac{1}{\\Delta t^2}(h^{k - 1}_i - 2h^k_i + h^{k+1}_i) - \\frac{gH^k_i}{\\Delta x^2}(H_{i-1} - 2H_i + H_{i+1} + h^k_{i-1} - 2h^k_i + h^k_{i+1}) = 0 \\tag{7}$$\n",
    "\n",
    "The wave speed is expressed by $c = \\sqrt{gH}$. By introducing $\\lambda = \\frac{gH\\Delta t^2}{\\Delta x^2}$, $(7)$ may be re-expressed as\n",
    "\n",
    "$$h^{k + 1}_i = 2(1 - \\lambda^2)h^k_i + \\lambda^2(h^k_{i-1} + h^k_{i+1} + H_{i-1} -2H_i + H_{i+1}) - h^{k+1}_i \\tag{8}$$\n",
    "\n",
    "$k$ represents iterations in time, while $i$ represents iterations in space. $(8)$ can be expressed as a matrix marching equation for a system with $m$ space grid points and $n$ time grid points:\n",
    "\n",
    "\\begin{gather}\n",
    " \\begin{bmatrix}\n",
    " h^{k+1}_1 \\\\\n",
    " h^{k+1}_2 \\\\\n",
    " \\vdots \\\\\n",
    " h^{k+1}_m \\\\\n",
    " \\end{bmatrix}\n",
    " =\n",
    " M_1\n",
    " \\begin{bmatrix}\n",
    " h^k_1 \\\\\n",
    " h^k_2 \\\\\n",
    " \\vdots \\\\\n",
    " h^k_m \\\\\n",
    " \\end{bmatrix}\n",
    " +\n",
    " M_2\n",
    " \\begin{bmatrix}\n",
    " H_1 \\\\\n",
    " H_2 \\\\\n",
    " \\vdots \\\\\n",
    " H_m\\\\\n",
    " \\end{bmatrix}\n",
    " -\n",
    " \\begin{bmatrix}\n",
    " h^{k-1}_1 \\\\\n",
    " h^{k-1}_2 \\\\\n",
    " \\vdots \\\\\n",
    " h^{k-1}_m \\\\\n",
    " \\end{bmatrix}\n",
    " \\tag{9}\n",
    "\\end{gather}\n",
    "\n",
    "$$\n",
    "M_1 = \n",
    "\\begin{bmatrix}\n",
    " 2(1 - \\lambda^2) & \\lambda^2 & 0 & 0 \\\\\n",
    " \\lambda^2 & \\ddots & \\ddots &  0 \\\\\n",
    " 0 & \\ddots & \\ddots & \\lambda^2 \\\\\n",
    " 0 & 0 & \\lambda^2 & 2(1 - \\lambda^2) \\\\\n",
    " \\end{bmatrix}\\quad\n",
    " \\text{and} \\quad\n",
    " M_2 = \n",
    "\\begin{bmatrix}\n",
    " -2\\lambda^2 & \\lambda^2 & 0 & 0 \\\\\n",
    " \\lambda^2 & \\ddots & \\ddots &  0 \\\\\n",
    " 0 & \\ddots & \\ddots & \\lambda^2 \\\\\n",
    " 0 & 0 & \\lambda^2 & -2\\lambda^2 \\\\\n",
    " \\end{bmatrix}\n",
    "$$\n",
    "\n",
    "$$\n",
    "\\text{where} \\quad\n",
    "\\lambda = \\frac{\\sqrt{gH_i} \\Delta t}{\\Delta x}\n",
    "\\quad \\text{where} \\; i \\; \\text{is the corresponding matrix row number}\n",
    "$$"
   ]
  },
  {
   "cell_type": "code",
   "execution_count": 56,
   "metadata": {},
   "outputs": [],
   "source": [
    "import numpy as np\n",
    "import matplotlib.pyplot as plt\n",
    "from scipy.sparse import diags\n",
    "from numpy import linalg as LA\n",
    "from matplotlib import animation"
   ]
  },
  {
   "cell_type": "markdown",
   "metadata": {},
   "source": [
    "## $\\bar u$ = 0, H is constant w.r.t time"
   ]
  },
  {
   "cell_type": "code",
   "execution_count": 57,
   "metadata": {},
   "outputs": [],
   "source": [
    "#set constants\n",
    "g = 9.8 #m/s^2\n",
    "dx = .005 #km\n",
    "dt = .05 #s\n",
    "tf = 10 #s\n",
    "xf = 20 #km\n",
    "\n",
    "#convert to SI units\n",
    "dx = dx*1000 #m\n",
    "xf = xf*1000 #m\n",
    "\n",
    "#initialize grids\n",
    "x = np.arange(0,xf+dx,dx)\n",
    "t = np.arange(0,tf+dt,dt)\n",
    "\n",
    "nx = len(x)\n",
    "nt = len(t)\n",
    "\n",
    "#import height data in m -- Currently using linear data w bounds from Short/Hesp\n",
    "#H = np.linspace(0,35,nx)\n",
    "H = 1500*np.ones(nx) #m\n",
    "\n",
    "#define lambda and lambda^2\n",
    "lamb = np.sqrt(g*H)*dt/dx\n",
    "lamb2 = np.square(lamb) #g*H*dt**2/dx**2\n",
    "\n",
    "#create matrices\n",
    "#data1 = [lamb[1:], lamb, lamb[0:-1]]\n",
    "#M1 = diags(data1, [-1, 0, 1], nx, nx)\n",
    "M1 = np.zeros((nx, nx))\n",
    "for i in np.arange(0, nx):\n",
    "    for j in np.arange(0, nx):\n",
    "        if i == j:\n",
    "            M1[i, j] = 2*(1 - lamb2[i])\n",
    "        elif abs(i - j) == 1:\n",
    "            M1[i, j] = lamb2[i]\n",
    "\n",
    "M2 = np.zeros((nx, nx))\n",
    "for i in np.arange(0, nx):\n",
    "    for j in np.arange(0, nx):\n",
    "        if i == j:\n",
    "            M2[i, j] = -2*lamb2[i]\n",
    "        elif abs(i - j) == 1:\n",
    "            M2[i, j] = lamb2[i]"
   ]
  },
  {
   "cell_type": "code",
   "execution_count": 66,
   "metadata": {},
   "outputs": [],
   "source": [
    "#inital conditions\n",
    "h = np.zeros((nx,nt))\n",
    "h[:,0] = np.exp(-(x-18000)**2 / 2)\n",
    "h[:,1] = np.exp(-(x-18000)**2 / 2) #implies that u_t(t=0) = 0\n",
    "\n",
    "#run\n",
    "for k in np.arange(1,nt - 1): \n",
    "    h[:,k+1] = M1@h[:, k] + M2@H - h[:, k-1]"
   ]
  },
  {
   "cell_type": "code",
   "execution_count": 67,
   "metadata": {},
   "outputs": [
    {
     "data": {
      "image/png": "[encoded data removed]",
      "text/plain": [
       "<Figure size 432x288 with 1 Axes>"
      ]
     },
     "metadata": {
      "needs_background": "light"
     },
     "output_type": "display_data"
    }
   ],
   "source": [
    "for k in np.arange(0,nt-1):\n",
    "    \n",
    "    plt.plot(x,h[:,k])\n",
    "    plt.xlabel('x (m)')\n",
    "    plt.ylabel('h (m)')"
   ]
  },
  {
   "cell_type": "code",
   "execution_count": 68,
   "metadata": {},
   "outputs": [
    {
     "data": {
      "image/png": "[encoded data removed]",
      "text/plain": [
       "<Figure size 432x288 with 1 Axes>"
      ]
     },
     "metadata": {
      "needs_background": "light"
     },
     "output_type": "display_data"
    }
   ],
   "source": [
    "#animate graph\n",
    "fig, ax = plt.subplots()\n",
    "\n",
    "line, = ax.plot(x, h[:, 0])\n",
    "\n",
    "def animate(i):\n",
    "    line.set_ydata(h[:, i])\n",
    "    return line,\n",
    "\n",
    "ani = animation.FuncAnimation(fig, animate, frames = 200, interval = 20, blit = True)"
   ]
  },
  {
   "cell_type": "code",
   "execution_count": 69,
   "metadata": {},
   "outputs": [
    {
     "data": {
      "text/plain": [
       "array([0., 0., 0., ..., 0., 0., 0.])"
      ]
     },
     "execution_count": 69,
     "metadata": {},
     "output_type": "execute_result"
    }
   ],
   "source": [
    "h[:, 0]"
   ]
  },
  {
   "cell_type": "markdown",
   "metadata": {},
   "source": [
    "## References\n",
    "Holton, J. R.: Chapter 7 Atmospheric oscillations: Linear perturbation theory, in: International Geophysics, edited by: Holton, J. R., Academic Press, 182-227, https://doi.org/10.1016/S0074-6142(04)80041-X, 2004."
   ]
  },
  {
   "cell_type": "code",
   "execution_count": null,
   "metadata": {},
   "outputs": [],
   "source": []
  }
 ],
 "metadata": {
  "kernelspec": {
   "display_name": "Python 3",
   "language": "python",
   "name": "python3"
  },
  "language_info": {
   "codemirror_mode": {
    "name": "ipython",
    "version": 3
   },
   "file_extension": ".py",
   "mimetype": "text/x-python",
   "name": "python",
   "nbconvert_exporter": "python",
   "pygments_lexer": "ipython3",
   "version": "3.8.8"
  }
 },
 "nbformat": 4,
 "nbformat_minor": 4
}
